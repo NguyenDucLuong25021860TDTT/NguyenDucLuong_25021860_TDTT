{
 "cells": [
  {
   "cell_type": "code",
   "execution_count": 1,
   "id": "05fa5597-c0d3-4c2e-9a6b-796ff6f055b7",
   "metadata": {},
   "outputs": [
    {
     "name": "stdout",
     "output_type": "stream",
     "text": [
      "hello world \n"
     ]
    }
   ],
   "source": [
    "#W2A1.\n",
    "print('hello world ' )"
   ]
  },
  {
   "cell_type": "code",
   "execution_count": 3,
   "id": "3c885f2d-a0f6-4e86-b098-b5ebb31c9ffc",
   "metadata": {},
   "outputs": [
    {
     "name": "stdin",
     "output_type": "stream",
     "text": [
      " Lương\n"
     ]
    },
    {
     "name": "stdout",
     "output_type": "stream",
     "text": [
      "xin chào Lương\n"
     ]
    }
   ],
   "source": [
    "#W2A2.\n",
    "name = input()\n",
    "print('xin chào ' + name)"
   ]
  },
  {
   "cell_type": "code",
   "execution_count": 4,
   "id": "2afa296c-9af1-4573-8e26-1e9ab1fa6732",
   "metadata": {},
   "outputs": [
    {
     "name": "stdin",
     "output_type": "stream",
     "text": [
      " 5\n",
      " 4\n"
     ]
    },
    {
     "name": "stdout",
     "output_type": "stream",
     "text": [
      "9\n",
      "1\n",
      "20\n",
      "1\n",
      "1\n",
      "1.25\n"
     ]
    }
   ],
   "source": [
    "#W2A3.\n",
    "a = int(input())\n",
    "b = int(input())\n",
    "print(a+b)\n",
    "print(a-b)\n",
    "print(a*b)\n",
    "print(int(a/b))\n",
    "print(a%b)\n",
    "print(round(float(a/b),2))\n"
   ]
  },
  {
   "cell_type": "code",
   "execution_count": 5,
   "id": "d644216b-2afa-4f36-b0a6-ebb93da6746b",
   "metadata": {},
   "outputs": [
    {
     "name": "stdin",
     "output_type": "stream",
     "text": [
      " 9 9 9 9 9 9\n"
     ]
    },
    {
     "name": "stdout",
     "output_type": "stream",
     "text": [
      "9.0\n"
     ]
    }
   ],
   "source": [
    "#W2A4\n",
    "a1 ,b1 ,c1 ,a2 ,b2 ,c2 = map(float,input().split())     \n",
    "TB = ((a1 + b1 + c1)+(a2 + b2)*2+ c2 *3 )/10\n",
    "print(TB)"
   ]
  },
  {
   "cell_type": "code",
   "execution_count": 6,
   "id": "ea803166-a390-4333-bf98-89dd21bc45f8",
   "metadata": {},
   "outputs": [
    {
     "name": "stdin",
     "output_type": "stream",
     "text": [
      " 2 5\n"
     ]
    },
    {
     "name": "stdout",
     "output_type": "stream",
     "text": [
      "32\n"
     ]
    }
   ],
   "source": [
    "#W2A5.\n",
    "a , b = map(int,input().split())\n",
    "print(a**b)"
   ]
  },
  {
   "cell_type": "code",
   "execution_count": 7,
   "id": "2fdd96fc-93de-4c62-98e4-0c41ad2bbaed",
   "metadata": {},
   "outputs": [
    {
     "name": "stdout",
     "output_type": "stream",
     "text": [
      "97\n",
      "A\n"
     ]
    }
   ],
   "source": [
    "#W2A6.\n",
    "y = ord('a')\n",
    "print (y)\n",
    "print(chr(y).upper())"
   ]
  },
  {
   "cell_type": "code",
   "execution_count": 8,
   "id": "82c4ace8-58ce-4f32-8f39-74f4a01b3d0e",
   "metadata": {},
   "outputs": [
    {
     "name": "stdout",
     "output_type": "stream",
     "text": [
      "512 512\n"
     ]
    }
   ],
   "source": [
    "#W2A7.\n",
    "A = ((13**2)*3) + 5\n",
    "B = 13**2*3 + 5\n",
    "print(A , B)"
   ]
  },
  {
   "cell_type": "code",
   "execution_count": 9,
   "id": "df15adfd-e84e-40cb-b245-b37cd5b85e9f",
   "metadata": {},
   "outputs": [
    {
     "name": "stdin",
     "output_type": "stream",
     "text": [
      " Nhập vào độ C :  20\n"
     ]
    },
    {
     "name": "stdout",
     "output_type": "stream",
     "text": [
      "68.0\n"
     ]
    }
   ],
   "source": [
    "#W2A8.\n",
    "C = float(input(\" Nhập vào độ C : \"))\n",
    "print(round((1.8)*C + 32.0 , 2))"
   ]
  },
  {
   "cell_type": "code",
   "execution_count": 14,
   "id": "5ce96f06-52e2-484c-848c-64c049cf47e8",
   "metadata": {},
   "outputs": [
    {
     "name": "stdin",
     "output_type": "stream",
     "text": [
      "Nhập vào giá của chiếc dồng hồ :  456.78\n"
     ]
    },
    {
     "name": "stdout",
     "output_type": "stream",
     "text": [
      "649.49\n"
     ]
    }
   ],
   "source": [
    "#W2A9.\n",
    "x = float(input(\"Nhập vào giá của chiếc dồng hồ : \"))\n",
    "print(round( 1.4*x + 10  , 2 ))"
   ]
  },
  {
   "cell_type": "code",
   "execution_count": 16,
   "id": "11fcc97d-2cf3-46a7-a77a-c30b3a36aebb",
   "metadata": {},
   "outputs": [
    {
     "name": "stdin",
     "output_type": "stream",
     "text": [
      "Nhập tên 3 người :  Lương Nam Bình\n"
     ]
    },
    {
     "name": "stdout",
     "output_type": "stream",
     "text": [
      "Bình Nam Lương\n"
     ]
    }
   ],
   "source": [
    "#W2A10.\n",
    "name1 , name2 , name3 = map(str ,input(\"Nhập tên 3 người : \").split())\n",
    "print(name3 , name2 , name1 )"
   ]
  },
  {
   "cell_type": "code",
   "execution_count": 17,
   "id": "d6778526-de53-4398-b894-0c34933c2d31",
   "metadata": {},
   "outputs": [
    {
     "name": "stdin",
     "output_type": "stream",
     "text": [
      "Nhập vào 2 số nguyên dương của giờ và phút :  1 60\n"
     ]
    },
    {
     "name": "stdout",
     "output_type": "stream",
     "text": [
      "3600 3600\n"
     ]
    }
   ],
   "source": [
    "#W2A11.\n",
    "h , p = map(int , input(\"Nhập vào 2 số nguyên dương của giờ và phút : \").split())\n",
    "print(3600*h , 60*p)"
   ]
  },
  {
   "cell_type": "code",
   "execution_count": 18,
   "id": "54b05592-6919-41ef-8d14-b934a6b7a088",
   "metadata": {},
   "outputs": [
    {
     "name": "stdin",
     "output_type": "stream",
     "text": [
      "Nhập vào độ dài 1 cạnh của khối rubik :  3\n"
     ]
    },
    {
     "name": "stdout",
     "output_type": "stream",
     "text": [
      "Số lượng miếng dán riêng lẻ để cần thiết để bao phủ rubik là : 54\n"
     ]
    }
   ],
   "source": [
    "#W2A12.\n",
    "n = int(input(\"Nhập vào độ dài 1 cạnh của khối rubik : \"))\n",
    "print (\"Số lượng miếng dán riêng lẻ để cần thiết để bao phủ rubik là : \"  + str(n**2*6))"
   ]
  },
  {
   "cell_type": "code",
   "execution_count": 19,
   "id": "5e81cc3d-00d2-4017-84f4-6b48363cc7f9",
   "metadata": {},
   "outputs": [
    {
     "name": "stdin",
     "output_type": "stream",
     "text": [
      "Nhập vào 2 số nguyên dương :  3 4\n"
     ]
    },
    {
     "name": "stdout",
     "output_type": "stream",
     "text": [
      "2\n"
     ]
    }
   ],
   "source": [
    "#W2A13.\n",
    "a , b = map(int , input(\"Nhập vào 2 số nguyên dương : \").split())\n",
    "print((a*b)%10)"
   ]
  },
  {
   "cell_type": "code",
   "execution_count": 20,
   "id": "1fe35bc2-1f6f-4452-a5d7-2600a842a25c",
   "metadata": {},
   "outputs": [
    {
     "name": "stdin",
     "output_type": "stream",
     "text": [
      " 6.9 7.4\n"
     ]
    },
    {
     "name": "stdout",
     "output_type": "stream",
     "text": [
      "7.4 6.9\n"
     ]
    }
   ],
   "source": [
    "#W2A14.\n",
    "a , b = map(float , input().split())\n",
    "print ( b , a)"
   ]
  },
  {
   "cell_type": "code",
   "execution_count": 22,
   "id": "96673351-c305-4ef2-a6d5-14b8d683f37d",
   "metadata": {},
   "outputs": [
    {
     "name": "stdout",
     "output_type": "stream",
     "text": [
      "          Spring\n",
      "          Summer\n",
      "          Auturm\n",
      "          Winter\n"
     ]
    }
   ],
   "source": [
    "#W2A16.\n",
    "print(\"\"\"          Spring\n",
    "          Summer\n",
    "          Auturm\n",
    "          Winter\"\"\")"
   ]
  },
  {
   "cell_type": "code",
   "execution_count": 23,
   "id": "cad70c72-fa3d-44b5-a9a9-bf8001f47ae8",
   "metadata": {},
   "outputs": [
    {
     "name": "stdout",
     "output_type": "stream",
     "text": [
      "  #\n",
      " ###\n",
      "#####\n"
     ]
    }
   ],
   "source": [
    "#W2A17.\n",
    "print(\"  #\")\n",
    "print(\" ###\")\n",
    "print(\"#####\")"
   ]
  },
  {
   "cell_type": "code",
   "execution_count": 24,
   "id": "1f4e6d16-f18d-4bb0-8e19-24a7c4928344",
   "metadata": {},
   "outputs": [
    {
     "name": "stdout",
     "output_type": "stream",
     "text": [
      "###  ##  ### ### \n",
      " #   # #  #   # \n",
      " #   # #  #   # \n",
      " #   # #  #   # \n",
      " #   ##   #   # \n"
     ]
    }
   ],
   "source": [
    "#W2A18.\n",
    "print(\"###  ##  ### ### \")\n",
    "print(\" #   # #  #   # \")\n",
    "print(\" #   # #  #   # \")\n",
    "print(\" #   # #  #   # \")\n",
    "print(\" #   ##   #   # \")"
   ]
  },
  {
   "cell_type": "code",
   "execution_count": 25,
   "id": "f9cc217d-f799-437f-a3d5-d2863f4905bf",
   "metadata": {},
   "outputs": [
    {
     "name": "stdout",
     "output_type": "stream",
     "text": [
      "Monday\n",
      "Tuesday\n",
      "Wednesday\n",
      "Thursday\n",
      "Friday\n",
      "Saturday\n",
      "Sunday\n",
      "\n"
     ]
    }
   ],
   "source": [
    "#W2A19.\n",
    "print(\"\"\"Monday\n",
    "Tuesday\n",
    "Wednesday\n",
    "Thursday\n",
    "Friday\n",
    "Saturday\n",
    "Sunday\n",
    "\"\"\")"
   ]
  },
  {
   "cell_type": "code",
   "execution_count": 26,
   "id": "6b0efd8b-2aa8-4f82-8313-f6f03af0657a",
   "metadata": {},
   "outputs": [
    {
     "name": "stdout",
     "output_type": "stream",
     "text": [
      "January\n",
      "February\n",
      "March\n",
      "April\n",
      "May\n",
      "June\n",
      "July\n",
      "August\n",
      "September\n",
      "October\n",
      "November\n",
      "December\n"
     ]
    }
   ],
   "source": [
    "\n",
    "print(\"\"\"January\n",
    "February\n",
    "March\n",
    "April\n",
    "May\n",
    "June\n",
    "July\n",
    "August\n",
    "September\n",
    "October\n",
    "November\n",
    "December\"\"\")"
   ]
  },
  {
   "cell_type": "code",
   "execution_count": 29,
   "id": "a94018b2-ba11-45ad-b632-1df98f60fb8a",
   "metadata": {},
   "outputs": [
    {
     "name": "stdout",
     "output_type": "stream",
     "text": [
      "Hello , world \n",
      "Hello , world \n",
      "Hello , world \n",
      "Hello , world \n",
      "Hello , world \n",
      "Hello , world \n",
      "Hello , world \n",
      "Hello , world \n",
      "Hello , world \n",
      "Hello , world \n"
     ]
    }
   ],
   "source": [
    "#W2A21.\n",
    "for i in range (0,10) :\n",
    "    print(\"Hello , world \")"
   ]
  },
  {
   "cell_type": "code",
   "execution_count": null,
   "id": "7390f671-4248-469f-9e1d-38bfd14d1eaf",
   "metadata": {},
   "outputs": [],
   "source": []
  }
 ],
 "metadata": {
  "kernelspec": {
   "display_name": "Python 3 (ipykernel)",
   "language": "python",
   "name": "python3"
  },
  "language_info": {
   "codemirror_mode": {
    "name": "ipython",
    "version": 3
   },
   "file_extension": ".py",
   "mimetype": "text/x-python",
   "name": "python",
   "nbconvert_exporter": "python",
   "pygments_lexer": "ipython3",
   "version": "3.13.7"
  }
 },
 "nbformat": 4,
 "nbformat_minor": 5
}
