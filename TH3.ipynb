{
 "cells": [
  {
   "cell_type": "code",
   "execution_count": null,
   "id": "1cc5b100-dfd8-4718-b416-66c62822a2fa",
   "metadata": {},
   "outputs": [],
   "source": [
    "m , n = map( float , input().split()) \n",
    "import math\n",
    "print(math.floor(m%n)) "
   ]
  },
  {
   "cell_type": "code",
   "execution_count": 4,
   "id": "b4d8237f-a392-4d34-96e0-2e7b12b5dd25",
   "metadata": {},
   "outputs": [
    {
     "name": "stdin",
     "output_type": "stream",
     "text": [
      " 6.0 4.0\n"
     ]
    },
    {
     "name": "stdout",
     "output_type": "stream",
     "text": [
      "2\n"
     ]
    }
   ],
   "source": [
    "m , n = map( float , input().split())\n",
    "import math\n",
    "print(math.ceil(m%n)) "
   ]
  },
  {
   "cell_type": "code",
   "execution_count": 9,
   "id": "ef8ffbb7-8022-41fa-a4db-0b07c2b37f2e",
   "metadata": {},
   "outputs": [
    {
     "name": "stdin",
     "output_type": "stream",
     "text": [
      " 1\n"
     ]
    },
    {
     "name": "stdout",
     "output_type": "stream",
     "text": [
      "Odd\n"
     ]
    }
   ],
   "source": [
    "n = int(input())\n",
    "if n <= 0 :\n",
    "    print(\"Bạn nhập sai \" )\n",
    "else :\n",
    "    if n % 2 == 0:\n",
    "        print(\"Even\")\n",
    "    else :\n",
    "        print(\"Odd\")\n",
    "        "
   ]
  },
  {
   "cell_type": "code",
   "execution_count": null,
   "id": "8887949b-14f8-487c-aefd-332672e8a56f",
   "metadata": {},
   "outputs": [],
   "source": []
  }
 ],
 "metadata": {
  "kernelspec": {
   "display_name": "Python 3 (ipykernel)",
   "language": "python",
   "name": "python3"
  },
  "language_info": {
   "codemirror_mode": {
    "name": "ipython",
    "version": 3
   },
   "file_extension": ".py",
   "mimetype": "text/x-python",
   "name": "python",
   "nbconvert_exporter": "python",
   "pygments_lexer": "ipython3",
   "version": "3.13.7"
  }
 },
 "nbformat": 4,
 "nbformat_minor": 5
}
